{
  "nbformat": 4,
  "nbformat_minor": 0,
  "metadata": {
    "colab": {
      "name": "QRCODE.ipynb",
      "provenance": [],
      "collapsed_sections": [],
      "toc_visible": true,
      "authorship_tag": "ABX9TyNz7yQ5cv27haz1x/Nt8fk+",
      "include_colab_link": true
    },
    "kernelspec": {
      "name": "python3",
      "display_name": "Python 3"
    }
  },
  "cells": [
    {
      "cell_type": "markdown",
      "metadata": {
        "id": "view-in-github",
        "colab_type": "text"
      },
      "source": [
        "<a href=\"https://colab.research.google.com/github/beduardocamargo/sheet2qrcode/blob/master/QRCODE.ipynb\" target=\"_parent\"><img src=\"https://colab.research.google.com/assets/colab-badge.svg\" alt=\"Open In Colab\"/></a>"
      ]
    },
    {
      "cell_type": "code",
      "metadata": {
        "id": "j3V81Et_Dl_1",
        "colab_type": "code",
        "outputId": "544fae65-e1e8-4e66-8124-3268c9fde506",
        "colab": {
          "base_uri": "https://localhost:8080/",
          "height": 190
        }
      },
      "source": [
        "!pip install pyqrcode\n",
        "import pyqrcode\n",
        "from google.colab import files\n",
        "import zipfile\n",
        "import csv\n",
        "from os import listdir, remove"
      ],
      "execution_count": 0,
      "outputs": [
        {
          "output_type": "stream",
          "text": [
            "Collecting pyqrcode\n",
            "  Downloading https://files.pythonhosted.org/packages/37/61/f07226075c347897937d4086ef8e55f0a62ae535e28069884ac68d979316/PyQRCode-1.2.1.tar.gz\n",
            "Building wheels for collected packages: pyqrcode\n",
            "  Building wheel for pyqrcode (setup.py) ... \u001b[?25l\u001b[?25hdone\n",
            "  Created wheel for pyqrcode: filename=PyQRCode-1.2.1-cp36-none-any.whl size=36247 sha256=34f8ab7e5ef77e9aadb676c43939eb7dd3237123e2ec51493bc20f96a6b28c36\n",
            "  Stored in directory: /root/.cache/pip/wheels/54/61/2f/a4f51b09473db5737db0f654ed10eb9a4ee01f83a7412de349\n",
            "Successfully built pyqrcode\n",
            "Installing collected packages: pyqrcode\n",
            "Successfully installed pyqrcode-1.2.1\n"
          ],
          "name": "stdout"
        }
      ]
    },
    {
      "cell_type": "code",
      "metadata": {
        "id": "FfzJZ9eeRlfU",
        "colab_type": "code",
        "colab": {}
      },
      "source": [
        "qrcodes_zipados = zipfile.ZipFile(\"./C001.zip\", \"w\")"
      ],
      "execution_count": 0,
      "outputs": []
    },
    {
      "cell_type": "code",
      "metadata": {
        "id": "q8D-uFvz1AyL",
        "colab_type": "code",
        "colab": {}
      },
      "source": [
        "CODIGOS = [i for i in listdir(\"./\") if i not in ['.config', 'C001.zip', '.ipynb_checkpoints', 'sample_data']]"
      ],
      "execution_count": 0,
      "outputs": []
    },
    {
      "cell_type": "code",
      "metadata": {
        "id": "QQ1ihg8PDMVt",
        "colab_type": "code",
        "colab": {}
      },
      "source": [
        "for arquivo in CODIGOS:\n",
        "  with open(arquivo) as f:\n",
        "    for i, line in enumerate(f):\n",
        "      number = pyqrcode.create(line.split()[0])\n",
        "      number.png(\"%s.png\" % line.split()[0], scale=int(10))\n",
        "      qrcodes_zipados = zipfile.ZipFile(\"./C001.zip\", \"a\")\n",
        "      qrcodes_zipados.write(\"%s.png\" % line.split()[0], \"%s/%s.png\" % (arquivo, line.split()[0]))\n",
        "      qrcodes_zipados.close()\n",
        "      remove('%s.png' % line.split()[0]);"
      ],
      "execution_count": 0,
      "outputs": []
    },
    {
      "cell_type": "code",
      "metadata": {
        "id": "R5H-psGIPf4o",
        "colab_type": "code",
        "colab": {}
      },
      "source": [
        "files.download(\"C001.zip\")"
      ],
      "execution_count": 0,
      "outputs": []
    },
    {
      "cell_type": "markdown",
      "metadata": {
        "id": "jjA1d0VgM5Iu",
        "colab_type": "text"
      },
      "source": [
        "# Snippet importante"
      ]
    },
    {
      "cell_type": "code",
      "metadata": {
        "id": "8xyyopFYKMIu",
        "colab_type": "code",
        "colab": {}
      },
      "source": [
        "from os import walk\n",
        "f = []\n",
        "for (dirpath, dirnames, filenames) in walk(\"../content\"):\n",
        "    f.extend(filenames)\n",
        "    break"
      ],
      "execution_count": 0,
      "outputs": []
    },
    {
      "cell_type": "code",
      "metadata": {
        "id": "N2aMEdENCG07",
        "colab_type": "code",
        "colab": {}
      },
      "source": [
        "import matplotlib.pyplot as plt\n",
        "from math import ceil\n",
        "x = [i for i in range(80,160)]\n",
        "y = [(646.26 + 394.47/3) / ceil(15.24e3 / i) for i in x]"
      ],
      "execution_count": 0,
      "outputs": []
    },
    {
      "cell_type": "code",
      "metadata": {
        "id": "kQD3ceE7DAn_",
        "colab_type": "code",
        "outputId": "96045dc3-3701-4af9-a28a-41de71829f9d",
        "colab": {
          "base_uri": "https://localhost:8080/",
          "height": 411
        }
      },
      "source": [
        "plt.figure(figsize=(16,6))\n",
        "plt.plot(x, y)"
      ],
      "execution_count": 0,
      "outputs": [
        {
          "output_type": "execute_result",
          "data": {
            "text/plain": [
              "[<matplotlib.lines.Line2D at 0x7ff1fd333438>]"
            ]
          },
          "metadata": {
            "tags": []
          },
          "execution_count": 8
        },
        {
          "output_type": "display_data",
          "data": {
            "image/png": "[encoded data removed]",
            "text/plain": [
              "<Figure size 1152x432 with 1 Axes>"
            ]
          },
          "metadata": {
            "tags": []
          }
        }
      ]
    },
    {
      "cell_type": "code",
      "metadata": {
        "id": "yPsIXmFxEPtn",
        "colab_type": "code",
        "colab": {}
      },
      "source": [
        ""
      ],
      "execution_count": 0,
      "outputs": []
    }
  ]
}